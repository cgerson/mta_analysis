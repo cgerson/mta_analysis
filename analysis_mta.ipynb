{
 "cells": [
  {
   "cell_type": "code",
   "execution_count": 3,
   "metadata": {
    "collapsed": false
   },
   "outputs": [
    {
     "name": "stdout",
     "output_type": "stream",
     "text": [
      "Populating the interactive namespace from numpy and matplotlib\n"
     ]
    }
   ],
   "source": [
    "import csv\n",
    "import collections\n",
    "import dateutil.parser\n",
    "import datetime\n",
    "import matplotlib.pyplot as plt\n",
    "import pandas as pd\n",
    "%pylab inline"
   ]
  },
  {
   "cell_type": "code",
   "execution_count": 4,
   "metadata": {
    "collapsed": true
   },
   "outputs": [],
   "source": [
    "def ReadMtaData(turnstile_file):\n",
    "    \n",
    "    \"\"\" Create csv from MTA turnstile text file \"\"\"\n",
    "    \n",
    "    f = open(turnstile_file)\n",
    "    file_csv = csv.reader(f)\n",
    "    next(file_csv)\n",
    "    rows = [[cell.strip() for cell in row] for row in file_csv]\n",
    "    return rows\n",
    "    f.close()"
   ]
  },
  {
   "cell_type": "code",
   "execution_count": 5,
   "metadata": {
    "collapsed": false
   },
   "outputs": [],
   "source": [
    "def ReadMtaData_multweeks(*args):\n",
    "    \n",
    "    \"\"\" Create csv from multiple MTA turnstile text files \"\"\"\n",
    "    \n",
    "    all_rows = []\n",
    "    for f in args:\n",
    "        with open(f) as myfile:\n",
    "            file_csv = csv.reader(myfile)\n",
    "            next(file_csv)\n",
    "            rows = [[cell.strip() for cell in row] for row in file_csv]\n",
    "            all_rows.extend(rows)\n",
    "    \n",
    "    return all_rows"
   ]
  },
  {
   "cell_type": "code",
   "execution_count": 6,
   "metadata": {
    "collapsed": false
   },
   "outputs": [],
   "source": [
    "# Matters in what order the files are read, because last line of last file \n",
    "# will be cut off later on\n",
    "\n",
    "f2015 = ReadMtaData_multweeks('turnstile_150606.txt','turnstile_150613.txt')"
   ]
  },
  {
   "cell_type": "code",
   "execution_count": 7,
   "metadata": {
    "collapsed": false
   },
   "outputs": [],
   "source": [
    "# Create dictionary from csv file\n",
    "\n",
    "d = {}\n",
    "for row in f2015:\n",
    "    key = tuple(row[:5])\n",
    "    value = tuple(row[5:])        \n",
    "    try:\n",
    "        d[key].append(value)\n",
    "    except KeyError:\n",
    "        d[key]=[]\n",
    "        d[key].append(value)"
   ]
  },
  {
   "cell_type": "code",
   "execution_count": 8,
   "metadata": {
    "collapsed": false
   },
   "outputs": [],
   "source": [
    "# !!! Last line gets cut off !!!\n",
    "\n",
    "def mta_timeseries(dict_mta):\n",
    "    \n",
    "    \"\"\"Create new dictionary where\n",
    "    key = turnstile data (tuple of four elements),\n",
    "    value = date & time, entry and exit data for each turnstile.\n",
    "    Returns dictionary \"\"\"\n",
    "    \n",
    "    dt_parsed = None\n",
    "    \n",
    "    for (key,value) in dict_mta.iteritems():\n",
    "        new_value=[]\n",
    "        for lst in value:\n",
    "            date = lst[1]+' '+lst[2]\n",
    "            try:\n",
    "                dt_parsed = dateutil.parser.parse(date)\n",
    "            except ValueError:\n",
    "                pass\n",
    "            new_value.append([dt_parsed,int(lst[4]),int(lst[5])])\n",
    "        dict_mta[key]=new_value\n",
    "        \n",
    "    # Modify dictionary to include three columns per value: date, entry count until next measurement, difference\n",
    "    # in time from previous turnstile data pt\n",
    "    \n",
    "    dict_mta_count = {turnstile: [[rows[i][0],\n",
    "                                    rows[i+1][1] - rows[i][1],\n",
    "                                     rows[i+1][2] - rows[i][2]]\n",
    "                                    for i in range(len(rows)-1)]\n",
    "                        for turnstile, rows in dict_mta.items()}\n",
    "    \n",
    "    return dict_mta_count"
   ]
  },
  {
   "cell_type": "code",
   "execution_count": 9,
   "metadata": {
    "collapsed": false
   },
   "outputs": [],
   "source": [
    "d2 = mta_timeseries(d)"
   ]
  },
  {
   "cell_type": "code",
   "execution_count": 10,
   "metadata": {
    "collapsed": false
   },
   "outputs": [],
   "source": [
    "def tot_daily_count(dict_mta_ts):\n",
    "    \n",
    "    \"\"\" Create dictionary with one value per day, and total daily count (entries + exits).\n",
    "    Return dictionary. \"\"\"\n",
    "    \n",
    "    new_dict = {}\n",
    "    \n",
    "    # Iterate through each turnstile, \n",
    "    # where values are day, entry count, and exit count\n",
    "    \n",
    "    for key,value in dict_mta_ts.iteritems():\n",
    "        dict_counts = {}\n",
    "        for i in range(len(value)):\n",
    "            mta_day, mta_time = value[i][0].date(), value[i][0].time()\n",
    "            count = value[i][1] + value[i][2]\n",
    "            \n",
    "            # AM is defined as before/at measurement 9AM\n",
    "            # Timestamps include traffic on average 3/4 hours post measurement\n",
    "            # Therefore, AM includes data up til 12/1PM\n",
    "            if mta_time <= datetime.time(9,0):\n",
    "                mta_time = 'AM'\n",
    "            else:\n",
    "                mta_time = 'PM'\n",
    "            \n",
    "            if dict_counts.get((mta_day,mta_time)) is None:\n",
    "                dict_counts[(mta_day,mta_time)] = count\n",
    "            else:\n",
    "                dict_counts[(mta_day,mta_time)] += count\n",
    "        \n",
    "        # Add tuples of dates and counts to turnstile keys,\n",
    "        # Where dates are ordered\n",
    "        new_dict[key]=sorted(dict_counts.items())\n",
    "    \n",
    "    # Include only ridership values (entries+exits) between 0 and 10,000\n",
    "    clean_count = {turnstile: [rows[i] for i in range(len(rows)) if 0<=rows[i][1]<=10000] \n",
    "                   for turnstile, rows in new_dict.items()}\n",
    "    \n",
    "    return clean_count\n",
    "    "
   ]
  },
  {
   "cell_type": "code",
   "execution_count": 11,
   "metadata": {
    "collapsed": false
   },
   "outputs": [],
   "source": [
    "d3 = tot_daily_count(d2)"
   ]
  },
  {
   "cell_type": "markdown",
   "metadata": {
    "collapsed": true
   },
   "source": [
    "Convert dictionary to pandas dataframe"
   ]
  },
  {
   "cell_type": "code",
   "execution_count": 12,
   "metadata": {
    "collapsed": false
   },
   "outputs": [],
   "source": [
    "def rows_from_day_counts(day_counts):\n",
    "   for turnstile, rows in day_counts.iteritems():\n",
    "       for row in rows:\n",
    "           yield turnstile + row"
   ]
  },
  {
   "cell_type": "code",
   "execution_count": 13,
   "metadata": {
    "collapsed": false
   },
   "outputs": [],
   "source": [
    "# Create dataframe \n",
    "df = pd.DataFrame(rows_from_day_counts(d3))"
   ]
  },
  {
   "cell_type": "code",
   "execution_count": 14,
   "metadata": {
    "collapsed": false
   },
   "outputs": [],
   "source": [
    "# Name columns\n",
    "df.columns = ['CA','UNIT','SCP','STATION','LINE','DATE', 'TOTAL_VOL']"
   ]
  },
  {
   "cell_type": "code",
   "execution_count": 15,
   "metadata": {
    "collapsed": false
   },
   "outputs": [],
   "source": [
    "# Create new column R for all stations on R line\n",
    "df['R'] = df['LINE'].map(lambda x: 'Y' if ('R' in x) else 'N')"
   ]
  },
  {
   "cell_type": "code",
   "execution_count": 16,
   "metadata": {
    "collapsed": false
   },
   "outputs": [],
   "source": [
    "# Separate date and time into two columns\n",
    "# Runtime slow\n",
    "df[['DATE_2','TIME']]=df['DATE'].apply(pd.Series)"
   ]
  },
  {
   "cell_type": "code",
   "execution_count": 17,
   "metadata": {
    "collapsed": false
   },
   "outputs": [],
   "source": [
    "# Generate day of week from date. 1 is Monday, 2 is Tuesday, etc\n",
    "df['WEEKDAY'] = df['DATE_2'].map(lambda x: dateutil.parser.parse(str(x)).weekday())"
   ]
  },
  {
   "cell_type": "code",
   "execution_count": 18,
   "metadata": {
    "collapsed": false
   },
   "outputs": [
    {
     "data": {
      "text/plain": [
       "384"
      ]
     },
     "execution_count": 18,
     "metadata": {},
     "output_type": "execute_result"
    }
   ],
   "source": [
    "# Check count of unique stations\n",
    "len(df.groupby(['STATION']))"
   ]
  },
  {
   "cell_type": "code",
   "execution_count": 19,
   "metadata": {
    "collapsed": false
   },
   "outputs": [],
   "source": [
    "# Remove weekend data, where weekends are numbers 5,6\n",
    "weekdays = range(5)\n",
    "df = df[df['WEEKDAY'].isin(weekdays)]"
   ]
  },
  {
   "cell_type": "code",
   "execution_count": 20,
   "metadata": {
    "collapsed": true
   },
   "outputs": [],
   "source": [
    "# Reduce dataframe to only relevant columns\n",
    "df_small = df[['STATION','TOTAL_VOL','R','DATE_2','TIME','WEEKDAY']]"
   ]
  },
  {
   "cell_type": "code",
   "execution_count": 21,
   "metadata": {
    "collapsed": false
   },
   "outputs": [],
   "source": [
    "# Merge turnstiles into UNIQUE STATIONS\n",
    "df_merge_stations = df_small.groupby(['STATION', 'DATE_2', 'TIME', 'WEEKDAY','R'],as_index=False).sum()"
   ]
  },
  {
   "cell_type": "code",
   "execution_count": 22,
   "metadata": {
    "collapsed": false
   },
   "outputs": [
    {
     "data": {
      "text/plain": [
       "DEKALB AVE         40\n",
       "86 ST              40\n",
       "CANAL ST           40\n",
       "77 ST              40\n",
       "LEXINGTON AVE      40\n",
       "PROSPECT AVE       40\n",
       "JAY ST-METROTEC    40\n",
       "WOODHAVEN BLVD     40\n",
       "RECTOR ST          40\n",
       "DITMARS BL-31 S    20\n",
       "7 AVE-53 ST        20\n",
       "MORRIS PARK        20\n",
       "175 ST             20\n",
       "168 ST-BROADWAY    20\n",
       "AQUEDUCT-N CNDT    20\n",
       "PROSPECT PARK      20\n",
       "KINGSBRIDGE RD     20\n",
       "WESTCHESTER SQ     20\n",
       "ROCKAWAY BLVD      20\n",
       "42 ST-BRYANT PK    20\n",
       "CLARK ST           20\n",
       "INTERVALE-163      20\n",
       "FRANKLIN AVE       20\n",
       "RIT-ROOSEVELT      20\n",
       "E TREMONT AVE      20\n",
       "14 ST              20\n",
       "BAY PARKWAY        20\n",
       "BAY 50 ST          20\n",
       "UNION ST           20\n",
       "5 AVE-BRYANT PK    20\n",
       "                   ..\n",
       "HOWARD BCH-JFK     20\n",
       "190 ST             20\n",
       "ROCKAWAY AVE       20\n",
       "JUNCTION BLVD      20\n",
       "21 ST              20\n",
       "HOYT ST-ASTORIA    20\n",
       "GUN HILL ROAD      20\n",
       "LAFAYETTE AVE      20\n",
       "TOMPKINSVILLE      20\n",
       "96 ST              20\n",
       "40 ST-LOWERY ST    20\n",
       "PRINCE ST-B'WAY    20\n",
       "42 ST-TIMES SQ     20\n",
       "AVE I              20\n",
       "KNICKERBOCKER      20\n",
       "MORRISON AVE       20\n",
       "59 ST-COLUMBUS     20\n",
       "207 ST             20\n",
       "CYPRESS AVE        20\n",
       "WASHINGTON-36 A    20\n",
       "149 ST-GR CONC     20\n",
       "HOYT/SCHERMER      20\n",
       "JFK JAMAICA CT1    20\n",
       "MYRTLE AVE         20\n",
       "PAVONIA/NEWPORT    20\n",
       "BEACH 44 ST        20\n",
       "MORGAN AVE         19\n",
       "22 AVE-BAY PKY     19\n",
       "OXFORD-104 ST      17\n",
       "71 ST              10\n",
       "dtype: int64"
      ]
     },
     "execution_count": 22,
     "metadata": {},
     "output_type": "execute_result"
    }
   ],
   "source": [
    "# Check that station numbers are relatively uniform\n",
    "df_merge_stations['STATION'].value_counts()"
   ]
  },
  {
   "cell_type": "code",
   "execution_count": 23,
   "metadata": {
    "collapsed": false
   },
   "outputs": [],
   "source": [
    "# Group by station\n",
    "df_merge_stations_groupby = df_merge_stations.groupby('STATION')"
   ]
  },
  {
   "cell_type": "code",
   "execution_count": 24,
   "metadata": {
    "collapsed": false
   },
   "outputs": [
    {
     "data": {
      "text/plain": [
       "STATION\n",
       "34 ST-PENN STA     168995.25\n",
       "42 ST-GRD CNTRL    162147.95\n",
       "34 ST-HERALD SQ    119214.30\n",
       "14 ST-UNION SQ     105783.25\n",
       "42 ST-TIMES SQ      98978.65\n",
       "Name: TOTAL_VOL, dtype: float64"
      ]
     },
     "execution_count": 24,
     "metadata": {},
     "output_type": "execute_result"
    }
   ],
   "source": [
    "# Print top five stations for commuter traffic by average daily volume (AM + PM)\n",
    "df_merge_stations_groupby.TOTAL_VOL.mean().order(ascending=False)[:5]"
   ]
  },
  {
   "cell_type": "code",
   "execution_count": 25,
   "metadata": {
    "collapsed": false
   },
   "outputs": [],
   "source": [
    "# Split df into am and pm \n",
    "df_am = df_merge_stations[df_merge_stations['TIME']=='AM']\n",
    "df_pm = df_merge_stations[df_merge_stations['TIME']=='PM']"
   ]
  },
  {
   "cell_type": "code",
   "execution_count": 26,
   "metadata": {
    "collapsed": false
   },
   "outputs": [
    {
     "name": "stdout",
     "output_type": "stream",
     "text": [
      "Number of stations AM 384\n",
      "Number of stations PM 384\n"
     ]
    }
   ],
   "source": [
    "# Check number of stations in each dataset\n",
    "print \"Number of stations AM\",len(df_am['STATION'].unique())\n",
    "print \"Number of stations PM\",len(df_pm['STATION'].unique())"
   ]
  },
  {
   "cell_type": "code",
   "execution_count": 27,
   "metadata": {
    "collapsed": false
   },
   "outputs": [
    {
     "name": "stdout",
     "output_type": "stream",
     "text": [
      "Total volume AM 42845534\n",
      "Total volume PM 63694095\n"
     ]
    }
   ],
   "source": [
    "# Traffic volume in each dataset\n",
    "# AM: Midnight - 12/1PM, PM: 12/1PM to Midnight\n",
    "print \"Total volume AM\",df_am['TOTAL_VOL'].sum()\n",
    "print \"Total volume PM\",df_pm['TOTAL_VOL'].sum()"
   ]
  },
  {
   "cell_type": "code",
   "execution_count": 28,
   "metadata": {
    "collapsed": false
   },
   "outputs": [],
   "source": [
    "# Group by stations\n",
    "df_am_groupby_stations = df_am.groupby('STATION')\n",
    "df_pm_groupby_stations = df_pm.groupby('STATION')"
   ]
  },
  {
   "cell_type": "code",
   "execution_count": 29,
   "metadata": {
    "collapsed": false
   },
   "outputs": [
    {
     "data": {
      "text/plain": [
       "<matplotlib.axes._subplots.AxesSubplot at 0x136b14dd0>"
      ]
     },
     "execution_count": 29,
     "metadata": {},
     "output_type": "execute_result"
    },
    {
     "data": {
      "image/png": "[encoded data removed]",
      "text/plain": [
       "<matplotlib.figure.Figure at 0x136b23690>"
      ]
     },
     "metadata": {},
     "output_type": "display_data"
    }
   ],
   "source": [
    "# Graph Top 5 AM stations by mean in descending order\n",
    "df_am_groupby_stations.TOTAL_VOL.mean().order(ascending=False)[:5].plot(kind='bar',\n",
    "                        title=\"Top 5 Stations by Average Daily Ridership Volume in the AM\",\n",
    "                        figsize=(8,6))"
   ]
  },
  {
   "cell_type": "code",
   "execution_count": 30,
   "metadata": {
    "collapsed": false
   },
   "outputs": [
    {
     "data": {
      "text/plain": [
       "<matplotlib.axes._subplots.AxesSubplot at 0x136988750>"
      ]
     },
     "execution_count": 30,
     "metadata": {},
     "output_type": "execute_result"
    },
    {
     "data": {
      "image/png": "[encoded data removed]",
      "text/plain": [
       "<matplotlib.figure.Figure at 0x13697ab90>"
      ]
     },
     "metadata": {},
     "output_type": "display_data"
    }
   ],
   "source": [
    "# Graph Top 5 PM stations by mean in descending order\n",
    "df_pm_groupby_stations.TOTAL_VOL.mean().order(ascending=False)[:5].plot(kind='bar',\n",
    "                            title=\"Top 5 Stations by Average Daily Ridership Volume in the PM\",\n",
    "                            figsize=(8,6))"
   ]
  },
  {
   "cell_type": "code",
   "execution_count": 41,
   "metadata": {
    "collapsed": false
   },
   "outputs": [
    {
     "name": "stdout",
     "output_type": "stream",
     "text": [
      "None\n"
     ]
    }
   ],
   "source": [
    "df_merge_stations[df_merge_stations['R']=='Y'].STATION.unique().sort()"
   ]
  }
 ],
 "metadata": {
  "kernelspec": {
   "display_name": "Python 2",
   "language": "python",
   "name": "python2"
  },
  "language_info": {
   "codemirror_mode": {
    "name": "ipython",
    "version": 2
   },
   "file_extension": ".py",
   "mimetype": "text/x-python",
   "name": "python",
   "nbconvert_exporter": "python",
   "pygments_lexer": "ipython2",
   "version": "2.7.10"
  }
 },
 "nbformat": 4,
 "nbformat_minor": 0
}
